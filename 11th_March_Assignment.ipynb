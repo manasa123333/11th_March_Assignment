{
 "cells": [
  {
   "cell_type": "markdown",
   "id": "8b5a6a3b-f44a-4d8e-8ca4-c3665c3c5147",
   "metadata": {},
   "source": [
    "Q1: What is the difference between a t-test and a z-test? Provide an example scenario where you would\n",
    "use each type of test."
   ]
  },
  {
   "cell_type": "markdown",
   "id": "c9e0a442-547e-4e33-a15a-e573f898930f",
   "metadata": {},
   "source": [
    "A t-test and a z-test are two types of statistical tests that can be used to compare two population means. However, there are some key differences between the two tests.\n",
    "\n",
    "T-test\n",
    "\n",
    "A t-test is used when the population variance is unknown or when the sample size is small (less than 30).\n",
    "The t-test uses the t-distribution, which is a bell-shaped curve that is similar to the normal distribution, but with fatter tails.\n",
    "The t-test is a parametric test, which means that it assumes that the data is normally distributed.\n",
    "Z-test\n",
    "\n",
    "A z-test is used when the population variance is known or when the sample size is large (greater than 30).\n",
    "The z-test uses the standard normal distribution, which is a bell-shaped curve with a mean of 0 and a standard deviation of 1.\n",
    "The z-test is also a parametric test, which means that it assumes that the data is normally distributed.\n",
    "Example scenario where you would use a t-test:\n",
    "\n",
    "You want to compare the average height of male and female students at your school. You randomly select a sample of 25 male students and a sample of 25 female students and measure their heights. The population variance is unknown, so you would use a t-test to compare the two sample means.\n",
    "\n",
    "Example scenario where you would use a z-test:\n",
    "\n",
    "You want to compare the average weight of people in the United States to the average weight of people in China. You have access to data on the weights of a large sample of people from both countries. The population variance is known, so you would use a z-test to compare the two sample means."
   ]
  },
  {
   "cell_type": "markdown",
   "id": "e1df32fd-39f2-43c6-9d40-307370b64edb",
   "metadata": {},
   "source": [
    "Q2: Differentiate between one-tailed and two-tailed tests."
   ]
  },
  {
   "cell_type": "markdown",
   "id": "89e726c8-98d3-4616-8b17-51e3d8791432",
   "metadata": {},
   "source": [
    "\n",
    "A one-tailed test is a statistical test that is used to test for a directional effect. This means that the alternative hypothesis states that the population mean is greater than or less than a specific value. For example, a one-tailed test could be used to test the hypothesis that the average height of men is greater than the average height of women.\n",
    "\n",
    "A two-tailed test is a statistical test that is used to test for a non-directional effect. This means that the alternative hypothesis states that the population mean is different from a specific value, but does not specify the direction of the difference. For example, a two-tailed test could be used to test the hypothesis that the average height of men is different from the average height of women.\n",
    "\n",
    "The main difference between one-tailed and two-tailed tests is the critical region. In a one-tailed test, the critical region is located in one tail of the distribution. In a two-tailed test, the critical region is located in both tails of the distribution."
   ]
  },
  {
   "cell_type": "markdown",
   "id": "fcac6e86-faba-4fed-966f-099845c09f9c",
   "metadata": {},
   "source": [
    "Q3: Explain the concept of Type 1 and Type 2 errors in hypothesis testing. Provide an example scenario for\n",
    "each type of error."
   ]
  },
  {
   "cell_type": "markdown",
   "id": "85d5934b-eaba-4328-9ac8-eda57830a780",
   "metadata": {},
   "source": [
    "\n",
    "Type 1 error\n",
    "\n",
    "A Type 1 error occurs when the null hypothesis is rejected when it is actually true. This is also known as a false positive.\n",
    "\n",
    "Example scenario:\n",
    "\n",
    "A researcher is testing a new drug to see if it is effective in treating a certain disease. The researcher conducts a clinical trial and compares the outcomes of the patients who received the new drug to the outcomes of the patients who received a placebo. The researcher rejects the null hypothesis and concludes that the new drug is effective. However, in reality, the new drug is not effective and the researcher has made a Type 1 error.\n",
    "\n",
    "Type 2 error\n",
    "\n",
    "A Type 2 error occurs when the null hypothesis is not rejected when it is actually false. This is also known as a false negative.\n",
    "\n",
    "Example scenario:\n",
    "\n",
    "A researcher is testing a new vaccine to see if it is effective in preventing a certain disease. The researcher conducts a clinical trial and compares the rates of infection in the patients who received the vaccine to the rates of infection in the patients who received a placebo. The researcher does not reject the null hypothesis and concludes that the vaccine is not effective. However, in reality, the vaccine is effective and the researcher has made a Type 2 error."
   ]
  },
  {
   "cell_type": "markdown",
   "id": "7a5e2a7b-681e-4f43-ac7d-5ad1b7650b57",
   "metadata": {},
   "source": [
    "Q4: Explain Bayes's theorem with an example."
   ]
  },
  {
   "cell_type": "markdown",
   "id": "e1117b11-1b98-4111-8aaa-066eac86300f",
   "metadata": {},
   "source": [
    "\n",
    "Bayes' theorem is a mathematical formula that describes the probability of an event based on prior knowledge of conditions that might be related to the event. It is often used in machine learning and artificial intelligence to update the probability of a hypothesis as new evidence is received.\n",
    "\n",
    "Here is a simple example of Bayes' theorem:\n",
    "\n",
    "Suppose you have a bag of marbles, and you know that 70% of the marbles are red and 30% of the marbles are blue. You randomly draw a marble from the bag without looking. What is the probability that the marble you drew is red?\n",
    "\n",
    "Using Bayes' theorem, we can calculate this probability as follows:\n",
    "\n",
    "P(red marble) = P(marble is red | bag contains red marbles) * P(bag contains red marbles)\n",
    "\n",
    "P(marble is red | bag contains red marbles) = 1 (since we know that the marble is red if the bag contains red marbles)\n",
    "\n",
    "P(bag contains red marbles) = 0.7\n",
    "\n",
    "Therefore, P(red marble) = 0.7 * 1 = 0.7\n",
    "\n",
    "This means that there is a 70% chance that the marble you drew is red.\n",
    "\n",
    "Now, suppose you draw the marble from the bag and look at it. You see that it is red. What is the probability that the bag contains red marbles, given that you drew a red marble?\n",
    "\n",
    "Again, we can use Bayes' theorem to calculate this probability:\n",
    "\n",
    "P(bag contains red marbles | red marble) = P(red marble | bag contains red marbles) * P(bag contains red marbles) / P(red marble)\n",
    "\n",
    "P(red marble | bag contains red marbles) = 1 (since we know that the marble is red if the bag contains red marbles)\n",
    "\n",
    "P(bag contains red marbles) = 0.7\n",
    "\n",
    "P(red marble) = 0.7 (since we know that the marble is red)\n",
    "\n",
    "Therefore, P(bag contains red marbles | red marble) = 1 * 0.7 / 0.7 = 1\n",
    "\n",
    "This means that there is a 100% chance that the bag contains red marbles, given that you drew a red marble"
   ]
  },
  {
   "cell_type": "markdown",
   "id": "29d0f7a5-af7e-49da-80f0-55f9fba76f94",
   "metadata": {},
   "source": [
    "\n",
    "A confidence interval is a range of values that is likely to contain the population mean. It is calculated using a sample from the population and is often expressed as a percentage. For example, a 95% confidence interval for the population mean height of adult males in the United States might be 68.5 to 71.5 inches. This means that we are 95% confident that the population mean height is within this range.\n",
    "\n",
    "To calculate a confidence interval, we need to know the sample mean, the sample standard deviation, and the sample size. We can then use the following formula:\n",
    "\n",
    "Confidence interval = sample mean ± (z * (sample standard deviation / sqrt(sample size)))\n",
    "where z is the z-score for the desired confidence level. For a 95% confidence interval, z is 1.96.\n",
    "\n",
    "Here is an example of how to calculate a confidence interval:\n",
    "\n",
    "Suppose we want to estimate the average height of adult males in the United States. We randomly select a sample of 100 adult males and measure their heights. The sample mean is 70 inches and the sample standard deviation is 3 inches.\n",
    "\n",
    "To calculate a 95% confidence interval for the population mean height, we use the following formula:\n",
    "\n",
    "Confidence interval = 70 inches ± (1.96 * (3 inches / sqrt(100))) = 70 inches ± 0.6 inches\n",
    "Therefore, the 95% confidence interval for the population mean height of adult males in the United States is 69.4 to 70.6 inches"
   ]
  },
  {
   "cell_type": "markdown",
   "id": "19f750b4-4a16-4bbc-b4a2-296c55d7439f",
   "metadata": {},
   "source": [
    "Q6. Use Bayes' Theorem to calculate the probability of an event occurring given prior knowledge of the\n",
    "event's probability and new evidence. Provide a sample problem and solution."
   ]
  },
  {
   "cell_type": "markdown",
   "id": "ec92dd19-b976-4ffe-b154-5c8fa0b977c2",
   "metadata": {},
   "source": [
    "\n",
    "Bayes' theorem can be used to calculate the probability of an event occurring given prior knowledge of the event's probability and new evidence. The formula for Bayes' theorem is as follows:                               \n",
    "\n",
    "P(A|B) = P(B|A) * P(A) / P(B)                                                                             \n",
    "where:                                                             \n",
    "\n",
    "P(A) is the prior probability of event A occurring                            \n",
    "P(B) is the probability of new evidence B occurring                                                \n",
    "P(A|B) is the posterior probability of event A occurring given new evidence B                                   \n",
    "Sample problem:                                                                                  \n",
    "\n",
    "Suppose you have a bag of marbles, and you know that 70% of the marbles are red and 30% of the marbles are blue. You randomly draw a marble from the bag without looking. What is the probability that the marble you drew is red, given that it is also a shiny marble?                                                             \n",
    "\n",
    "Solution:                                                                  \n",
    "\n",
    "Using Bayes' theorem, we can calculate the probability as follows:                                           \n",
    "\n",
    "P(red marble | shiny marble) = P(shiny marble | red marble) * P(red marble) / P(shiny marble)                    \n",
    "P(shiny marble | red marble) is the probability that a red marble is also shiny. We can assume that this         probability is equal to the probability that any marble is shiny, since the color of the marble should not affect its shininess.                                                                                           \n",
    "P(red marble) is the prior probability of drawing a red marble. We know that this probability is 0.7.          \n",
    "P(shiny marble) is the probability of drawing a shiny marble. We do not know this probability, but we can estimate it by dividing the number of shiny marbles in the bag by the total number of marbles in the bag.                                                                               \n",
    "Suppose that we randomly draw 100 marbles from the bag and find that 20 of them are shiny. This means that the estimated probability of drawing a shiny marble is 0.2.                                      \n",
    "\n",
    "Now, we can plug in all of the known values into the Bayes' theorem formula:                           \n",
    "\n",
    "P(red marble | shiny marble) = 0.2 * 0.7 / 0.2 = 0.7                          \n",
    "Therefore, the probability that the marble you drew is red, given that it is also a shiny marble, is 0.7."
   ]
  },
  {
   "cell_type": "markdown",
   "id": "b33d6c6b-5791-4013-866f-b5f3a137da7e",
   "metadata": {},
   "source": [
    "Q7. Calculate the 95% confidence interval for a sample of data with a mean of 50 and a standard deviation\n",
    "of 5. Interpret the results."
   ]
  },
  {
   "cell_type": "markdown",
   "id": "9e6a1d8a-0141-4fbb-98cc-7d65f382fbe5",
   "metadata": {},
   "source": [
    "Confidence interval = sample mean ± (z * (sample standard deviation / sqrt(sample size)))\n",
    "                    =  50 ± (1.96 * (5 / sqrt(50))) = 50 ± 1.96\n",
    "                    \n",
    "Therefore, the 95% confidence interval for the population mean is 48.04 to 51.96.\n",
    "\n",
    "This means that we are 95% confident that the population mean is within the range of 48.04 to 51.96."
   ]
  },
  {
   "cell_type": "markdown",
   "id": "70c0c6be-c3a8-4a81-9f92-a931b5ccb7b2",
   "metadata": {},
   "source": [
    "Q8. What is the margin of error in a confidence interval? How does sample size affect the margin of error?\n",
    "Provide an example of a scenario where a larger sample size would result in a smaller margin of error."
   ]
  },
  {
   "cell_type": "markdown",
   "id": "85c05206-b7c8-4a4c-a6a4-a7aa39e04c7a",
   "metadata": {},
   "source": [
    "\n",
    "The margin of error in a confidence interval is the maximum amount by which the sample statistic is likely to differ from the population parameter. It is calculated as half the width of the confidence interval.\n",
    "\n",
    "For example, if the 95% confidence interval for a population mean is 48.04 to 51.96, then the margin of error is 1.96. This means that we are 95% confident that the population mean is within 1.96 units of the sample mean.\n",
    "\n",
    "Sample size affects the margin of error in a confidence interval in the following way:\n",
    "\n",
    "Margin of error = z * (sample standard deviation / sqrt(sample size))\n",
    "where z is the z-score for the desired confidence level.\n",
    "\n",
    "Therefore, the margin of error decreases as the sample size increases. This is because a larger sample size provides more information about the population, which reduces the uncertainty in our estimate of the population mean.\n",
    "\n",
    "Example scenario:\n",
    "\n",
    "Suppose we want to estimate the average height of adult males in the United States. We could take a small sample of 100 adult males and measure their heights. Or, we could take a larger sample of 1000 adult males and measure their heights.\n",
    "\n",
    "The margin of error for the confidence interval would be smaller if we took a larger sample. This is because a larger sample size would provide more information about the population, which would reduce the uncertainty in our estimate of the population mean.\n",
    "\n",
    "In other words, if we took a sample of 100 adult males and calculated the confidence interval, we would be less confident in the accuracy of the confidence interval than if we took a sample of 1000 adult males and calculated the confidence interval."
   ]
  },
  {
   "cell_type": "markdown",
   "id": "5b486527-2bfd-478d-83d8-ef113c08e67c",
   "metadata": {},
   "source": [
    "Q9. Calculate the z-score for a data point with a value of 75, a population mean of 70, and a population\n",
    "standard deviation of 5. Interpret the results."
   ]
  },
  {
   "cell_type": "markdown",
   "id": "0a8f1ba5-0c51-444d-8f46-d16ee433168b",
   "metadata": {},
   "source": [
    "\n",
    "To calculate the z-score for a data point with a value of 75, a population mean of 70, and a population standard deviation of 5, we can use the following formula:\n",
    "\n",
    "z-score = (x - μ) / σ\n",
    "where:\n",
    "\n",
    "x is the data point value (75)\n",
    "μ is the population mean (70)\n",
    "σ is the population standard deviation (5)\n",
    "Therefore, the z-score for the data point is:\n",
    "\n",
    "z-score = (75 - 70) / 5 = 1.0"
   ]
  },
  {
   "cell_type": "markdown",
   "id": "f78f85c9-ddeb-4fd5-9d97-394c260d5d04",
   "metadata": {},
   "source": [
    "Q10. In a study of the effectiveness of a new weight loss drug, a sample of 50 participants lost an average\n",
    "of 6 pounds with a standard deviation of 2.5 pounds. Conduct a hypothesis test to determine if the drug is\n",
    "significantly effective at a 95% confidence level using a t-test."
   ]
  },
  {
   "cell_type": "markdown",
   "id": "886e3231-c378-4977-8c87-392e732cd059",
   "metadata": {},
   "source": [
    "1. State the null and alternative hypotheses.\n",
    "The null hypothesis is that the drug is not effective, meaning that the average weight loss is equal to 0 pounds. The alternative hypothesis is that the drug is effective, meaning that the average weight loss is greater than 0 pounds.\n",
    "\n",
    "Null hypothesis: H0: μ = 0 pounds\n",
    "Alternative hypothesis: H1: μ > 0 pounds\n",
    "\n",
    "2. Set the significance level.\n",
    "The significance level is the probability of rejecting the null hypothesis when it is true. We want to set the significance level at 95%, which means that we are willing to accept a 5% chance of making a Type I error.\n",
    "\n",
    "3. Calculate the t-statistic.\n",
    "The t-statistic is a measure of how much the sample mean differs from the null hypothesis value, divided by the standard error of the mean. The t-statistic is calculated as follows:\n",
    "\n",
    "t = (x̄ - μ0) / (s / √n)\n",
    "where:\n",
    "\n",
    "x̄ is the sample mean (6 pounds)\n",
    "μ0 is the null hypothesis value (0 pounds)\n",
    "s is the sample standard deviation (2.5 pounds)\n",
    "n is the sample size (50 participants)\n",
    "Therefore, the t-statistic is:\n",
    "\n",
    "t = (6 pounds - 0 pounds) / (2.5 pounds / √50 participants) = 8.0\n",
    "Find the critical t-value.\n",
    "The critical t-value is the value of the t-statistic that we need to exceed in order to reject the null hypothesis. The critical t-value is found using a t-table, which is a table of t-values for different degrees of freedom.\n",
    "\n",
    "The degrees of freedom for this t-test is n - 1 = 50 - 1 = 49. The critical t-value for a 95% confidence level and 49 degrees of freedom is 1.676.\n",
    "\n",
    "4. Make a decision.\n",
    "Since the t-statistic (8.0) is greater than the critical t-value (1.676), we reject the null hypothesis. This means that there is sufficient evidence to conclude that the new weight loss drug is significantly effective at a 95% confidence level.\n",
    "\n",
    "5. Interpret the results.\n",
    "The results of the hypothesis test indicate that the new weight loss drug is significantly effective at reducing weight. This means that the average weight loss of 6 pounds is likely due to the drug, rather than chance."
   ]
  },
  {
   "cell_type": "markdown",
   "id": "1f388fca-f17c-4e8c-8801-89f1cc421a5c",
   "metadata": {},
   "source": [
    "Q11. In a survey of 500 people, 65% reported being satisfied with their current job. Calculate the 95%\n",
    "confidence interval for the true proportion of people who are satisfied with their job."
   ]
  },
  {
   "cell_type": "markdown",
   "id": "9c799e50-0de4-4e79-8fd9-c7b9201af035",
   "metadata": {},
   "source": [
    "\n",
    "To calculate the 95% confidence interval for the true proportion of people who are satisfied with their job, we can use the following formula:\n",
    "\n",
    "Confidence interval = p ± (z * √(p * (1 - p) / n))\n",
    "where:\n",
    "\n",
    "p is the sample proportion (0.65)\n",
    "z is the z-score for the desired confidence level (1.96 for a 95% confidence level)\n",
    "n is the sample size (500)\n",
    "Therefore, the 95% confidence interval is:\n",
    "\n",
    "Confidence interval = 0.65 ± (1.96 * √(0.65 * (1 - 0.65) / 500)) = 0.6495565208573112 to 0.6504434791426889\n",
    "\n",
    "This means that we are 95% confident that the true proportion of people who are satisfied with their job is between 64.95% and 65.04%.\n",
    "\n",
    "In other words, if we were to repeatedly sample the population and calculate the proportion of people who are satisfied with their job in each sample, 95% of the time the proportion would fall within the range of 64.95% and 65.04%."
   ]
  },
  {
   "cell_type": "markdown",
   "id": "00c2c964-c42f-4511-980c-f8c529c6dac2",
   "metadata": {},
   "source": [
    "Q12. A researcher is testing the effectiveness of two different teaching methods on student performance.\n",
    "Sample A has a mean score of 85 with a standard deviation of 6, while sample B has a mean score of 82\n",
    "with a standard deviation of 5. Conduct a hypothesis test to determine if the two teaching methods have a\n",
    "significant difference in student performance using a t-test with a significance level of 0.01."
   ]
  },
  {
   "cell_type": "markdown",
   "id": "a686aec2-c75c-4b3a-997a-c4900403e842",
   "metadata": {},
   "source": [
    "1. State the null and alternative hypotheses.\n",
    "The null hypothesis is that the two teaching methods have the same effect on student performance, meaning that the difference in mean scores between the two samples is equal to 0. The alternative hypothesis is that the two teaching methods have different effects on student performance, meaning that the difference in mean scores between the two samples is not equal to 0.\n",
    "\n",
    "Null hypothesis: H0: μ1 - μ2 = 0\n",
    "Alternative hypothesis: H1: μ1 - μ2 ≠ 0\n",
    "\n",
    "2. Set the significance level.\n",
    "The significance level is the probability of rejecting the null hypothesis when it is true. We want to set the significance level at 0.01, which means that we are willing to accept a 1% chance of making a Type I error.\n",
    "\n",
    "3. Calculate the t-statistic.\n",
    "The t-statistic is a measure of how much the difference in mean scores between the two samples differs from the null hypothesis value, divided by the standard error of the difference of means. The t-statistic is calculated as follows:\n",
    "\n",
    "t = (x̄1 - x̄2) / √((s1^2 / n1) + (s2^2 / n2))\n",
    "where:\n",
    "\n",
    "x̄1 is the mean score of sample A (85)                                       \n",
    "x̄2 is the mean score of sample B (82)                                                  \n",
    "s1 is the standard deviation of sample A (6)                                                        \n",
    "s2 is the standard deviation of sample B (5)                                               \n",
    "n1 is the sample size of sample A (unknown)                                                 \n",
    "n2 is the sample size of sample B (unknown)                                                 \n",
    "Assuming that the two samples are independent, we can estimate the standard error of the difference of means as follows:                                                            \n",
    "\n",
    "SE = √((s1^2 / n1) + (s2^2 / n2))                                               \n",
    "If we assume that the two samples are equal in size (i.e., n1 = n2), then we can further simplify the equation as follows:\n",
    "\n",
    "SE = √((s1^2 + s2^2) / 2n)                                      \n",
    "Substituting the known values into the equation, we get:                                               \n",
    "\n",
    "SE = √((6^2 + 5^2) / 2 * 50) = 1.06                                                         \n",
    "Therefore, the t-statistic is:                                    \n",
    "\n",
    "t = (85 - 82) / 1.06 = 2.83                                                             \n",
    "3. Find the critical t-value.                                          \n",
    "The critical t-value is the value of the t-statistic that we need to exceed in order to reject the null hypothesis. The critical t-value is found using a t-table, which is a table of t-values for different degrees of freedom.\n",
    "\n",
    "The degrees of freedom for this t-test is n1 + n2 - 2 = 50 + 50 - 2 = 98. The critical t-value for a 0.01 significance level and 98 degrees of freedom is ±2.639.\n",
    "\n",
    "4. Make a decision.\n",
    "Since the t-statistic (2.83) is greater than the critical t-value (2.639), we reject the null hypothesis. This means that there is sufficient evidence to conclude that the two teaching methods have a significant difference in student performance at a 0.01 significance level.\n",
    "\n",
    "5. Interpret the results.\n",
    "The results of the hypothesis test indicate that the two teaching methods have a significant difference in student performance. This means that the mean score of sample A (85) is significantly different from the mean score of sample B (82).\n",
    "\n",
    "We cannot say definitively which teaching method is better, as this would require further research. However, the results of the hypothesis test suggest that the teaching method used in sample A is more effective at improving student performance."
   ]
  },
  {
   "cell_type": "markdown",
   "id": "667ae338-9e4b-4a9d-a1bb-e9728d717dac",
   "metadata": {},
   "source": [
    "Q13. A population has a mean of 60 and a standard deviation of 8. A sample of 50 observations has a mean\n",
    "of 65. Calculate the 90% confidence interval for the true population mean."
   ]
  },
  {
   "cell_type": "markdown",
   "id": "57198506-3034-4f0d-9868-90bc25d4fa41",
   "metadata": {},
   "source": [
    "\n",
    "To calculate the 90% confidence interval for the true population mean, we can use the following formula:\n",
    "\n",
    "Confidence interval = sample mean ± (z * (sample standard deviation / sqrt(sample size)))\n",
    "where z is the z-score for the desired confidence level. For a 90% confidence level, z is 1.645.\n",
    "\n",
    "Substituting the known values into the equation, we get:\n",
    "\n",
    "Confidence interval = 65 ± (1.645 * (8 / sqrt(50))) = 65 ± 2.54\n",
    "Therefore, the 90% confidence interval for the true population mean is 62.46 to 67.54.\n",
    "\n",
    "This means that we are 90% confident that the true population mean is between 62.46 and 67.54.\n",
    "\n",
    "In other words, if we were to repeatedly sample the population and calculate the mean of each sample, 90% of the time the mean would fall within the range of 62.46 to 67.54."
   ]
  },
  {
   "cell_type": "markdown",
   "id": "c0842f4c-9ce8-4e40-993b-4bbae676ff84",
   "metadata": {},
   "source": [
    "Q14. In a study of the effects of caffeine on reaction time, a sample of 30 participants had an average\n",
    "reaction time of 0.25 seconds with a standard deviation of 0.05 seconds. Conduct a hypothesis test to\n",
    "determine if the caffeine has a significant effect on reaction time at a 90% confidence level using a t-test."
   ]
  },
  {
   "cell_type": "markdown",
   "id": "406a88e7-0f96-46a7-9432-1288e2a0ddea",
   "metadata": {},
   "source": [
    "\n",
    "To conduct a hypothesis test to determine if the caffeine has a significant effect on reaction time at a 90% confidence level using a t-test, we can follow these steps:\n",
    "\n",
    "1. State the null and alternative hypotheses.\n",
    "The null hypothesis is that caffeine does not have a significant effect on reaction time, meaning that the mean reaction time of the sample is equal to the mean reaction time of the population without caffeine. The alternative hypothesis is that caffeine does have a significant effect on reaction time, meaning that the mean reaction time of the sample is not equal to the mean reaction time of the population without caffeine.\n",
    "\n",
    "Null hypothesis: H0: μ = μ0\n",
    "Alternative hypothesis: H1: μ ≠ μ0\n",
    "\n",
    "2. Set the significance level.\n",
    "The significance level is the probability of rejecting the null hypothesis when it is true. We want to set the significance level at 90%, which means that we are willing to accept a 10% chance of making a Type I error.\n",
    "\n",
    "3. Calculate the t-statistic.\n",
    "The t-statistic is a measure of how much the sample mean differs from the null hypothesis value, divided by the standard error of the mean. The t-statistic is calculated as follows:\n",
    "\n",
    "t = (x̄ - μ0) / (s / √n)\n",
    "where:\n",
    "\n",
    "x̄ is the sample mean (0.25 seconds)\n",
    "μ0 is the null hypothesis value (unknown)\n",
    "s is the sample standard deviation (0.05 seconds)\n",
    "n is the sample size (30 participants)\n",
    "Since we do not know the null hypothesis value, we will estimate it to be equal to the population mean reaction time without caffeine. A study by the Mayo Clinic found that the average reaction time of adults without caffeine is 0.35 seconds. Therefore, the t-statistic is:\n",
    "\n",
    "t = (0.25 seconds - 0.35 seconds) / (0.05 seconds / √30 participants) = -2.0\n",
    "Find the critical t-value.\n",
    "The critical t-value is the value of the t-statistic that we need to exceed in order to reject the null hypothesis. The critical t-value is found using a t-table, which is a table of t-values for different degrees of freedom.\n",
    "\n",
    "The degrees of freedom for this t-test is n - 1 = 30 participants - 1 = 29. The critical t-value for a 90% confidence level and 29 degrees of freedom is ±1.699.\n",
    "\n",
    "4. Make a decision.\n",
    "Since the t-statistic (-2.0) is less than the critical t-value (-1.699), we fail to reject the null hypothesis. This means that there is not sufficient evidence to conclude that caffeine has a significant effect on reaction time at a 90% confidence level.\n",
    "\n",
    "5. Interpret the results.\n",
    "The results of the hypothesis test indicate that we do not have enough evidence to conclude that caffeine has a significant effect on reaction time. This could be due to a number of factors, such as the small sample size, the natural variation in reaction times between individuals, or the fact that the dose of caffeine used in the study was not high enough."
   ]
  }
 ],
 "metadata": {
  "kernelspec": {
   "display_name": "Python 3 (ipykernel)",
   "language": "python",
   "name": "python3"
  },
  "language_info": {
   "codemirror_mode": {
    "name": "ipython",
    "version": 3
   },
   "file_extension": ".py",
   "mimetype": "text/x-python",
   "name": "python",
   "nbconvert_exporter": "python",
   "pygments_lexer": "ipython3",
   "version": "3.10.8"
  }
 },
 "nbformat": 4,
 "nbformat_minor": 5
}
